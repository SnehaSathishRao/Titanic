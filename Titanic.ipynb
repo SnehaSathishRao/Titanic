{
 "cells": [
  {
   "cell_type": "markdown",
   "metadata": {},
   "source": [
    "# Titanic: Machine Learning from Disaster"
   ]
  },
  {
   "cell_type": "markdown",
   "metadata": {},
   "source": [
    "# Description"
   ]
  },
  {
   "cell_type": "markdown",
   "metadata": {},
   "source": [
    "The sinking of the RMS Titanic is one of the most infamous shipwrecks in history.  On April 15, 1912, during her maiden voyage, the Titanic sank after colliding with an iceberg, killing 1502 out of 2224 passengers and crew. This sensational tragedy shocked the international community and led to better safety regulations for ships.\n",
    "\n",
    "One of the reasons that the shipwreck led to such loss of life was that there were not enough lifeboats for the passengers and crew. Although there was some element of luck involved in surviving the sinking, some groups of people were more likely to survive than others, such as women, children, and the upper-class."
   ]
  },
  {
   "cell_type": "markdown",
   "metadata": {},
   "source": [
    "# Business Problem:"
   ]
  },
  {
   "cell_type": "markdown",
   "metadata": {},
   "source": [
    "To apply the tools of machine learning to predict which passengers survived the tragedy."
   ]
  },
  {
   "cell_type": "markdown",
   "metadata": {},
   "source": [
    "# Data"
   ]
  },
  {
   "cell_type": "markdown",
   "metadata": {},
   "source": [
    "Taken data from : https://www.kaggle.com/c/titanic/data"
   ]
  },
  {
   "cell_type": "markdown",
   "metadata": {},
   "source": [
    "# Business objectives and Constraints"
   ]
  },
  {
   "cell_type": "markdown",
   "metadata": {},
   "source": [
    "**Objectives:**\n",
    "<br/>\n",
    "To predict which passengers survived the tragedy\n",
    "\n",
    "**Constraints: **\n",
    "<br/>\n",
    "Latency : Not required <br/>\n",
    "Interpretability :  It is good to have an uderstanding behind the passengers survival<br/>"
   ]
  },
  {
   "cell_type": "markdown",
   "metadata": {},
   "source": [
    "# Machine Learning Problem :"
   ]
  },
  {
   "cell_type": "markdown",
   "metadata": {},
   "source": [
    "It is a classification Problem  \n",
    "Survived - 1,Not survived - 0"
   ]
  },
  {
   "cell_type": "markdown",
   "metadata": {},
   "source": [
    "# Performance metrics :"
   ]
  },
  {
   "cell_type": "markdown",
   "metadata": {},
   "source": [
    "Accuracy   \n",
    "Confusion matrix  "
   ]
  },
  {
   "cell_type": "markdown",
   "metadata": {},
   "source": [
    "# Features of the data:"
   ]
  },
  {
   "cell_type": "markdown",
   "metadata": {},
   "source": [
    "**survival** : Survival\t0 = No, 1 = Yes  \n",
    "**PassengerId** : Unique ID given to each and every passenger  \n",
    "**Name** : the name of the passenger  \n",
    "**pclass** : A proxy for socio-economic status (SES) 1st = Upper 2nd = Middle 3rd = Lower  \n",
    "**sex** : Sex\t\n",
    "**Age**\t: Age in years\t(Age is fractional if less than 1. If the age is estimated, is it in the form of xx.5)  \n",
    "**sibsp** :\t siblings(brother, sister, stepbrother, stepsister)/ spouses(husband, wife (mistresses and fiancés were ignored)) aboard the Titanic\t\n",
    "**parch** : parents(mother, father) / children(daughter, son, stepdaughter, stepson) aboard the Titanic\t/Some children travelled only with a nanny, therefore parch=0 for them.  \n",
    "**ticket** : Ticket number\t\n",
    "**fare** : Passenger fare\t\n",
    "**cabin** : Cabin number\t\n",
    "**embarked** : Port of Embarkation\tC = Cherbourg, Q = Queenstown, S = Southampton"
   ]
  },
  {
   "cell_type": "markdown",
   "metadata": {},
   "source": [
    "# Libraries"
   ]
  },
  {
   "cell_type": "code",
   "execution_count": 216,
   "metadata": {},
   "outputs": [],
   "source": [
    "import warnings\n",
    "warnings.filterwarnings(\"ignore\")\n",
    "import os\n",
    "import pandas as pd\n",
    "import numpy as np\n",
    "from matplotlib import pyplot as plt\n",
    "import seaborn as sns\n",
    "from sklearn.model_selection import train_test_split\n",
    "import scikitplot as skplt\n",
    "from sklearn.grid_search import GridSearchCV\n",
    "from sklearn.neighbors import KNeighborsClassifier as KNN\n",
    "from sklearn.linear_model import LogisticRegression\n",
    "from sklearn.linear_model import SGDClassifier\n",
    "from sklearn.tree import DecisionTreeClassifier\n",
    "from sklearn.ensemble import RandomForestClassifier\n",
    "from sklearn.ensemble import GradientBoostingClassifier\n",
    "from xgboost import XGBClassifier\n",
    "from keras.initializers import RandomNormal\n",
    "from keras.utils import np_utils\n",
    "from keras.models import Sequential \n",
    "from keras.layers import Dense, Activation\n",
    "from keras.layers.normalization import BatchNormalization\n",
    "from keras.layers import Dropout"
   ]
  },
  {
   "cell_type": "markdown",
   "metadata": {},
   "source": [
    "# Load Data"
   ]
  },
  {
   "cell_type": "code",
   "execution_count": 270,
   "metadata": {},
   "outputs": [
    {
     "data": {
      "text/plain": [
       "(891, 12)"
      ]
     },
     "execution_count": 270,
     "metadata": {},
     "output_type": "execute_result"
    }
   ],
   "source": [
    "train_data = pd.read_csv(r'C:\\Users\\Friend\\AI\\AI_datasets\\Titanic\\train.csv')\n",
    "train_data.shape"
   ]
  },
  {
   "cell_type": "code",
   "execution_count": 74,
   "metadata": {},
   "outputs": [
    {
     "data": {
      "text/html": [
       "<div>\n",
       "<style scoped>\n",
       "    .dataframe tbody tr th:only-of-type {\n",
       "        vertical-align: middle;\n",
       "    }\n",
       "\n",
       "    .dataframe tbody tr th {\n",
       "        vertical-align: top;\n",
       "    }\n",
       "\n",
       "    .dataframe thead th {\n",
       "        text-align: right;\n",
       "    }\n",
       "</style>\n",
       "<table border=\"1\" class=\"dataframe\">\n",
       "  <thead>\n",
       "    <tr style=\"text-align: right;\">\n",
       "      <th></th>\n",
       "      <th>PassengerId</th>\n",
       "      <th>Survived</th>\n",
       "      <th>Pclass</th>\n",
       "      <th>Name</th>\n",
       "      <th>Sex</th>\n",
       "      <th>Age</th>\n",
       "      <th>SibSp</th>\n",
       "      <th>Parch</th>\n",
       "      <th>Ticket</th>\n",
       "      <th>Fare</th>\n",
       "      <th>Cabin</th>\n",
       "      <th>Embarked</th>\n",
       "    </tr>\n",
       "  </thead>\n",
       "  <tbody>\n",
       "    <tr>\n",
       "      <th>0</th>\n",
       "      <td>1</td>\n",
       "      <td>0</td>\n",
       "      <td>3</td>\n",
       "      <td>Braund, Mr. Owen Harris</td>\n",
       "      <td>male</td>\n",
       "      <td>22.0</td>\n",
       "      <td>1</td>\n",
       "      <td>0</td>\n",
       "      <td>A/5 21171</td>\n",
       "      <td>7.2500</td>\n",
       "      <td>NaN</td>\n",
       "      <td>S</td>\n",
       "    </tr>\n",
       "    <tr>\n",
       "      <th>1</th>\n",
       "      <td>2</td>\n",
       "      <td>1</td>\n",
       "      <td>1</td>\n",
       "      <td>Cumings, Mrs. John Bradley (Florence Briggs Th...</td>\n",
       "      <td>female</td>\n",
       "      <td>38.0</td>\n",
       "      <td>1</td>\n",
       "      <td>0</td>\n",
       "      <td>PC 17599</td>\n",
       "      <td>71.2833</td>\n",
       "      <td>C85</td>\n",
       "      <td>C</td>\n",
       "    </tr>\n",
       "    <tr>\n",
       "      <th>2</th>\n",
       "      <td>3</td>\n",
       "      <td>1</td>\n",
       "      <td>3</td>\n",
       "      <td>Heikkinen, Miss. Laina</td>\n",
       "      <td>female</td>\n",
       "      <td>26.0</td>\n",
       "      <td>0</td>\n",
       "      <td>0</td>\n",
       "      <td>STON/O2. 3101282</td>\n",
       "      <td>7.9250</td>\n",
       "      <td>NaN</td>\n",
       "      <td>S</td>\n",
       "    </tr>\n",
       "    <tr>\n",
       "      <th>3</th>\n",
       "      <td>4</td>\n",
       "      <td>1</td>\n",
       "      <td>1</td>\n",
       "      <td>Futrelle, Mrs. Jacques Heath (Lily May Peel)</td>\n",
       "      <td>female</td>\n",
       "      <td>35.0</td>\n",
       "      <td>1</td>\n",
       "      <td>0</td>\n",
       "      <td>113803</td>\n",
       "      <td>53.1000</td>\n",
       "      <td>C123</td>\n",
       "      <td>S</td>\n",
       "    </tr>\n",
       "    <tr>\n",
       "      <th>4</th>\n",
       "      <td>5</td>\n",
       "      <td>0</td>\n",
       "      <td>3</td>\n",
       "      <td>Allen, Mr. William Henry</td>\n",
       "      <td>male</td>\n",
       "      <td>35.0</td>\n",
       "      <td>0</td>\n",
       "      <td>0</td>\n",
       "      <td>373450</td>\n",
       "      <td>8.0500</td>\n",
       "      <td>NaN</td>\n",
       "      <td>S</td>\n",
       "    </tr>\n",
       "  </tbody>\n",
       "</table>\n",
       "</div>"
      ],
      "text/plain": [
       "   PassengerId  Survived  Pclass  \\\n",
       "0            1         0       3   \n",
       "1            2         1       1   \n",
       "2            3         1       3   \n",
       "3            4         1       1   \n",
       "4            5         0       3   \n",
       "\n",
       "                                                Name     Sex   Age  SibSp  \\\n",
       "0                            Braund, Mr. Owen Harris    male  22.0      1   \n",
       "1  Cumings, Mrs. John Bradley (Florence Briggs Th...  female  38.0      1   \n",
       "2                             Heikkinen, Miss. Laina  female  26.0      0   \n",
       "3       Futrelle, Mrs. Jacques Heath (Lily May Peel)  female  35.0      1   \n",
       "4                           Allen, Mr. William Henry    male  35.0      0   \n",
       "\n",
       "   Parch            Ticket     Fare Cabin Embarked  \n",
       "0      0         A/5 21171   7.2500   NaN        S  \n",
       "1      0          PC 17599  71.2833   C85        C  \n",
       "2      0  STON/O2. 3101282   7.9250   NaN        S  \n",
       "3      0            113803  53.1000  C123        S  \n",
       "4      0            373450   8.0500   NaN        S  "
      ]
     },
     "execution_count": 74,
     "metadata": {},
     "output_type": "execute_result"
    }
   ],
   "source": [
    "train_data.head()"
   ]
  },
  {
   "cell_type": "code",
   "execution_count": 5,
   "metadata": {},
   "outputs": [
    {
     "data": {
      "text/plain": [
       "(418, 11)"
      ]
     },
     "execution_count": 5,
     "metadata": {},
     "output_type": "execute_result"
    }
   ],
   "source": [
    "test_data = pd.read_csv(r'C:\\Users\\Friend\\AI\\AI_datasets\\Titanic\\test.csv')\n",
    "test_data.shape"
   ]
  },
  {
   "cell_type": "code",
   "execution_count": 8,
   "metadata": {},
   "outputs": [
    {
     "data": {
      "text/html": [
       "<div>\n",
       "<style scoped>\n",
       "    .dataframe tbody tr th:only-of-type {\n",
       "        vertical-align: middle;\n",
       "    }\n",
       "\n",
       "    .dataframe tbody tr th {\n",
       "        vertical-align: top;\n",
       "    }\n",
       "\n",
       "    .dataframe thead th {\n",
       "        text-align: right;\n",
       "    }\n",
       "</style>\n",
       "<table border=\"1\" class=\"dataframe\">\n",
       "  <thead>\n",
       "    <tr style=\"text-align: right;\">\n",
       "      <th></th>\n",
       "      <th>PassengerId</th>\n",
       "      <th>Pclass</th>\n",
       "      <th>Name</th>\n",
       "      <th>Sex</th>\n",
       "      <th>Age</th>\n",
       "      <th>SibSp</th>\n",
       "      <th>Parch</th>\n",
       "      <th>Ticket</th>\n",
       "      <th>Fare</th>\n",
       "      <th>Cabin</th>\n",
       "      <th>Embarked</th>\n",
       "    </tr>\n",
       "  </thead>\n",
       "  <tbody>\n",
       "    <tr>\n",
       "      <th>0</th>\n",
       "      <td>892</td>\n",
       "      <td>3</td>\n",
       "      <td>Kelly, Mr. James</td>\n",
       "      <td>male</td>\n",
       "      <td>34.5</td>\n",
       "      <td>0</td>\n",
       "      <td>0</td>\n",
       "      <td>330911</td>\n",
       "      <td>7.8292</td>\n",
       "      <td>NaN</td>\n",
       "      <td>Q</td>\n",
       "    </tr>\n",
       "    <tr>\n",
       "      <th>1</th>\n",
       "      <td>893</td>\n",
       "      <td>3</td>\n",
       "      <td>Wilkes, Mrs. James (Ellen Needs)</td>\n",
       "      <td>female</td>\n",
       "      <td>47.0</td>\n",
       "      <td>1</td>\n",
       "      <td>0</td>\n",
       "      <td>363272</td>\n",
       "      <td>7.0000</td>\n",
       "      <td>NaN</td>\n",
       "      <td>S</td>\n",
       "    </tr>\n",
       "    <tr>\n",
       "      <th>2</th>\n",
       "      <td>894</td>\n",
       "      <td>2</td>\n",
       "      <td>Myles, Mr. Thomas Francis</td>\n",
       "      <td>male</td>\n",
       "      <td>62.0</td>\n",
       "      <td>0</td>\n",
       "      <td>0</td>\n",
       "      <td>240276</td>\n",
       "      <td>9.6875</td>\n",
       "      <td>NaN</td>\n",
       "      <td>Q</td>\n",
       "    </tr>\n",
       "    <tr>\n",
       "      <th>3</th>\n",
       "      <td>895</td>\n",
       "      <td>3</td>\n",
       "      <td>Wirz, Mr. Albert</td>\n",
       "      <td>male</td>\n",
       "      <td>27.0</td>\n",
       "      <td>0</td>\n",
       "      <td>0</td>\n",
       "      <td>315154</td>\n",
       "      <td>8.6625</td>\n",
       "      <td>NaN</td>\n",
       "      <td>S</td>\n",
       "    </tr>\n",
       "    <tr>\n",
       "      <th>4</th>\n",
       "      <td>896</td>\n",
       "      <td>3</td>\n",
       "      <td>Hirvonen, Mrs. Alexander (Helga E Lindqvist)</td>\n",
       "      <td>female</td>\n",
       "      <td>22.0</td>\n",
       "      <td>1</td>\n",
       "      <td>1</td>\n",
       "      <td>3101298</td>\n",
       "      <td>12.2875</td>\n",
       "      <td>NaN</td>\n",
       "      <td>S</td>\n",
       "    </tr>\n",
       "  </tbody>\n",
       "</table>\n",
       "</div>"
      ],
      "text/plain": [
       "   PassengerId  Pclass                                          Name     Sex  \\\n",
       "0          892       3                              Kelly, Mr. James    male   \n",
       "1          893       3              Wilkes, Mrs. James (Ellen Needs)  female   \n",
       "2          894       2                     Myles, Mr. Thomas Francis    male   \n",
       "3          895       3                              Wirz, Mr. Albert    male   \n",
       "4          896       3  Hirvonen, Mrs. Alexander (Helga E Lindqvist)  female   \n",
       "\n",
       "    Age  SibSp  Parch   Ticket     Fare Cabin Embarked  \n",
       "0  34.5      0      0   330911   7.8292   NaN        Q  \n",
       "1  47.0      1      0   363272   7.0000   NaN        S  \n",
       "2  62.0      0      0   240276   9.6875   NaN        Q  \n",
       "3  27.0      0      0   315154   8.6625   NaN        S  \n",
       "4  22.0      1      1  3101298  12.2875   NaN        S  "
      ]
     },
     "execution_count": 8,
     "metadata": {},
     "output_type": "execute_result"
    }
   ],
   "source": [
    "test_data.head()"
   ]
  },
  {
   "cell_type": "markdown",
   "metadata": {},
   "source": [
    "# Exploratory Data Analysis:"
   ]
  },
  {
   "cell_type": "code",
   "execution_count": 12,
   "metadata": {},
   "outputs": [
    {
     "data": {
      "text/plain": [
       "Index(['PassengerId', 'Survived', 'Pclass', 'Name', 'Sex', 'Age', 'SibSp',\n",
       "       'Parch', 'Ticket', 'Fare', 'Cabin', 'Embarked'],\n",
       "      dtype='object')"
      ]
     },
     "execution_count": 12,
     "metadata": {},
     "output_type": "execute_result"
    }
   ],
   "source": [
    "#columns of the data\n",
    "\n",
    "train_data.columns"
   ]
  },
  {
   "cell_type": "markdown",
   "metadata": {},
   "source": [
    "** Observations: **\n",
    "\n",
    "* Independent Variable - PassengerId,Pclass,Name,Sex,Age,SibSp,Parch,Ticket,Fare,Cabin,Embarked\n",
    "* Dependent variable - Survived"
   ]
  },
  {
   "cell_type": "code",
   "execution_count": 13,
   "metadata": {},
   "outputs": [
    {
     "data": {
      "text/plain": [
       "PassengerId      int64\n",
       "Survived         int64\n",
       "Pclass           int64\n",
       "Name            object\n",
       "Sex             object\n",
       "Age            float64\n",
       "SibSp            int64\n",
       "Parch            int64\n",
       "Ticket          object\n",
       "Fare           float64\n",
       "Cabin           object\n",
       "Embarked        object\n",
       "dtype: object"
      ]
     },
     "execution_count": 13,
     "metadata": {},
     "output_type": "execute_result"
    }
   ],
   "source": [
    "#Datatypes of each Column\n",
    "\n",
    "train_data.dtypes"
   ]
  },
  {
   "cell_type": "code",
   "execution_count": 38,
   "metadata": {},
   "outputs": [
    {
     "data": {
      "text/html": [
       "<div>\n",
       "<style scoped>\n",
       "    .dataframe tbody tr th:only-of-type {\n",
       "        vertical-align: middle;\n",
       "    }\n",
       "\n",
       "    .dataframe tbody tr th {\n",
       "        vertical-align: top;\n",
       "    }\n",
       "\n",
       "    .dataframe thead th {\n",
       "        text-align: right;\n",
       "    }\n",
       "</style>\n",
       "<table border=\"1\" class=\"dataframe\">\n",
       "  <thead>\n",
       "    <tr style=\"text-align: right;\">\n",
       "      <th></th>\n",
       "      <th>PassengerId</th>\n",
       "      <th>Survived</th>\n",
       "      <th>Pclass</th>\n",
       "      <th>Age</th>\n",
       "      <th>SibSp</th>\n",
       "      <th>Parch</th>\n",
       "      <th>Fare</th>\n",
       "    </tr>\n",
       "  </thead>\n",
       "  <tbody>\n",
       "    <tr>\n",
       "      <th>count</th>\n",
       "      <td>891.000000</td>\n",
       "      <td>891.000000</td>\n",
       "      <td>891.000000</td>\n",
       "      <td>714.000000</td>\n",
       "      <td>891.000000</td>\n",
       "      <td>891.000000</td>\n",
       "      <td>891.000000</td>\n",
       "    </tr>\n",
       "    <tr>\n",
       "      <th>mean</th>\n",
       "      <td>446.000000</td>\n",
       "      <td>0.383838</td>\n",
       "      <td>2.308642</td>\n",
       "      <td>29.699118</td>\n",
       "      <td>0.523008</td>\n",
       "      <td>0.381594</td>\n",
       "      <td>32.204208</td>\n",
       "    </tr>\n",
       "    <tr>\n",
       "      <th>std</th>\n",
       "      <td>257.353842</td>\n",
       "      <td>0.486592</td>\n",
       "      <td>0.836071</td>\n",
       "      <td>14.526497</td>\n",
       "      <td>1.102743</td>\n",
       "      <td>0.806057</td>\n",
       "      <td>49.693429</td>\n",
       "    </tr>\n",
       "    <tr>\n",
       "      <th>min</th>\n",
       "      <td>1.000000</td>\n",
       "      <td>0.000000</td>\n",
       "      <td>1.000000</td>\n",
       "      <td>0.420000</td>\n",
       "      <td>0.000000</td>\n",
       "      <td>0.000000</td>\n",
       "      <td>0.000000</td>\n",
       "    </tr>\n",
       "    <tr>\n",
       "      <th>25%</th>\n",
       "      <td>223.500000</td>\n",
       "      <td>0.000000</td>\n",
       "      <td>2.000000</td>\n",
       "      <td>20.125000</td>\n",
       "      <td>0.000000</td>\n",
       "      <td>0.000000</td>\n",
       "      <td>7.910400</td>\n",
       "    </tr>\n",
       "    <tr>\n",
       "      <th>50%</th>\n",
       "      <td>446.000000</td>\n",
       "      <td>0.000000</td>\n",
       "      <td>3.000000</td>\n",
       "      <td>28.000000</td>\n",
       "      <td>0.000000</td>\n",
       "      <td>0.000000</td>\n",
       "      <td>14.454200</td>\n",
       "    </tr>\n",
       "    <tr>\n",
       "      <th>75%</th>\n",
       "      <td>668.500000</td>\n",
       "      <td>1.000000</td>\n",
       "      <td>3.000000</td>\n",
       "      <td>38.000000</td>\n",
       "      <td>1.000000</td>\n",
       "      <td>0.000000</td>\n",
       "      <td>31.000000</td>\n",
       "    </tr>\n",
       "    <tr>\n",
       "      <th>max</th>\n",
       "      <td>891.000000</td>\n",
       "      <td>1.000000</td>\n",
       "      <td>3.000000</td>\n",
       "      <td>80.000000</td>\n",
       "      <td>8.000000</td>\n",
       "      <td>6.000000</td>\n",
       "      <td>512.329200</td>\n",
       "    </tr>\n",
       "  </tbody>\n",
       "</table>\n",
       "</div>"
      ],
      "text/plain": [
       "       PassengerId    Survived      Pclass         Age       SibSp  \\\n",
       "count   891.000000  891.000000  891.000000  714.000000  891.000000   \n",
       "mean    446.000000    0.383838    2.308642   29.699118    0.523008   \n",
       "std     257.353842    0.486592    0.836071   14.526497    1.102743   \n",
       "min       1.000000    0.000000    1.000000    0.420000    0.000000   \n",
       "25%     223.500000    0.000000    2.000000   20.125000    0.000000   \n",
       "50%     446.000000    0.000000    3.000000   28.000000    0.000000   \n",
       "75%     668.500000    1.000000    3.000000   38.000000    1.000000   \n",
       "max     891.000000    1.000000    3.000000   80.000000    8.000000   \n",
       "\n",
       "            Parch        Fare  \n",
       "count  891.000000  891.000000  \n",
       "mean     0.381594   32.204208  \n",
       "std      0.806057   49.693429  \n",
       "min      0.000000    0.000000  \n",
       "25%      0.000000    7.910400  \n",
       "50%      0.000000   14.454200  \n",
       "75%      0.000000   31.000000  \n",
       "max      6.000000  512.329200  "
      ]
     },
     "execution_count": 38,
     "metadata": {},
     "output_type": "execute_result"
    }
   ],
   "source": [
    "#Statistical Analysis of features\n",
    "\n",
    "train_data.describe()"
   ]
  },
  {
   "cell_type": "code",
   "execution_count": 37,
   "metadata": {},
   "outputs": [
    {
     "name": "stdout",
     "output_type": "stream",
     "text": [
      "length of unique values in PassengerId 891\n",
      "some of the unique values in PassengerId [1, 2, 3, 4, 5]\n",
      "---------------------------------------------------------\n",
      "length of unique values in Pclass 3\n",
      "unique values in Pclass {1, 2, 3}\n",
      "---------------------------------------------------------\n",
      "length of unique values in Name 891\n",
      "length of unique values in Name 891\n",
      "---------------------------------------------------------\n",
      "length of unique values in Sex 2\n",
      "unique values in Sex {'male', 'female'}\n",
      "---------------------------------------------------------\n",
      "length of unique values in Age 265\n",
      "some of the unique values in Age [nan, nan, 2.0, nan, 4.0]\n",
      "---------------------------------------------------------\n",
      "length of unique values in SibSp 7\n",
      "unique values in SibSp {0, 1, 2, 3, 4, 5, 8}\n",
      "---------------------------------------------------------\n",
      "length of unique values in Parch 7\n",
      "unique values in Parch {0, 1, 2, 3, 4, 5, 6}\n",
      "---------------------------------------------------------\n",
      "length of unique values in Ticket 681\n",
      "some of the unique values in Ticket ['7552', '349910', '13214', 'SOTON/O.Q. 392087', '250646']\n",
      "---------------------------------------------------------\n",
      "length of unique values in Fare 248\n",
      "some of the unique values in Fare [0.0, 512.3292, 4.0125, 5.0, 6.975]\n",
      "---------------------------------------------------------\n",
      "length of unique values in Cabin 148\n",
      "some of the unique values in Cabin [nan, 'C91', 'B39', 'B18', 'D21']\n",
      "---------------------------------------------------------\n",
      "length of unique values in Embarked 4\n",
      "unique values in Embarked {nan, 'C', 'S', 'Q'}\n",
      "---------------------------------------------------------\n",
      "length of unique values in Survived 2\n",
      "unique values in Survived {0, 1}\n"
     ]
    }
   ],
   "source": [
    "# Checking attribute values in PassengerId\n",
    "print('length of unique values in PassengerId',len(set(train_data['PassengerId'])))\n",
    "print('some of the unique values in PassengerId',list(set(train_data['PassengerId']))[0:5])\n",
    "print('---------------------------------------------------------')\n",
    "\n",
    "# Checking attribute values in Pclass\n",
    "print('length of unique values in Pclass',len(set(train_data['Pclass'])))\n",
    "print('unique values in Pclass',set(train_data['Pclass']))\n",
    "print('---------------------------------------------------------')\n",
    "\n",
    "# Checking attribute values in Name\n",
    "print('length of unique values in Name',len(set(train_data['Name'])))\n",
    "print('length of unique values in Name',len(set(train_data['Name'])))\n",
    "print('---------------------------------------------------------')\n",
    "\n",
    "# Checking attribute values in Sex\n",
    "print('length of unique values in Sex',len(set(train_data['Sex'])))\n",
    "print('unique values in Sex',set(train_data['Sex']))\n",
    "print('---------------------------------------------------------')\n",
    "\n",
    "# Checking attribute values in Age\n",
    "print('length of unique values in Age',len(set(train_data['Age'])))\n",
    "print('some of the unique values in Age',list(set(train_data['Age']))[0:5])\n",
    "print('---------------------------------------------------------')\n",
    "\n",
    "# Checking attribute values in SibSp\n",
    "print('length of unique values in SibSp',len(set(train_data['SibSp'])))\n",
    "print('unique values in SibSp',set(train_data['SibSp']))\n",
    "print('---------------------------------------------------------')\n",
    "\n",
    "# Checking attribute values in Parch\n",
    "print('length of unique values in Parch',len(set(train_data['Parch'])))\n",
    "print('unique values in Parch',set(train_data['Parch']))\n",
    "print('---------------------------------------------------------')\n",
    "\n",
    "# Checking attribute values in Ticket\n",
    "print('length of unique values in Ticket',len(set(train_data['Ticket'])))\n",
    "print('some of the unique values in Ticket',list(set(train_data['Ticket']))[0:5])\n",
    "print('---------------------------------------------------------')\n",
    "\n",
    "# Checking attribute values in Fare\n",
    "print('length of unique values in Fare',len(set(train_data['Fare'])))\n",
    "print('some of the unique values in Fare',list(set(train_data['Fare']))[0:5])\n",
    "print('---------------------------------------------------------')\n",
    "\n",
    "# Checking attribute values in Cabin\n",
    "print('length of unique values in Cabin',len(set(train_data['Cabin'])))\n",
    "print('some of the unique values in Cabin',list(set(train_data['Cabin']))[0:5])\n",
    "print('---------------------------------------------------------')\n",
    "\n",
    "# Checking attribute values in Embarked\n",
    "print('length of unique values in Embarked',len(set(train_data['Embarked'])))\n",
    "print('unique values in Embarked',set(train_data['Embarked']))\n",
    "print('---------------------------------------------------------')\n",
    "\n",
    "# Checking attribute values in Survived\n",
    "print('length of unique values in Survived',len(set(train_data['Survived'])))\n",
    "print('unique values in Survived',set(train_data['Survived']))"
   ]
  },
  {
   "cell_type": "markdown",
   "metadata": {},
   "source": [
    "** Observations: **\n",
    "\n",
    "   * Independent variables:\n",
    "       * PassengerId : Discrete value;unique identifier for each record in dataset\n",
    "       * Pclass : Categorical(Ordinal)\n",
    "       * Name : Text(unique)\n",
    "       * Sex : Categorical(Nominal)\n",
    "       * Age : Numeric(Continuous)\n",
    "       * SibSp : Numeric(Discrete)\n",
    "       * Parch : Numeric(Discrete)\n",
    "       * Ticket : Text(Not unique)\n",
    "       * Fare : Numeric(Continuous)\n",
    "       * Cabin : Categorical(Nominal)\n",
    "       * Embarked : Categorical(Nominal)\n",
    "   * Dependent Variable:\n",
    "       * Survived : Numeric(Discrete)"
   ]
  },
  {
   "cell_type": "code",
   "execution_count": 271,
   "metadata": {},
   "outputs": [
    {
     "data": {
      "image/png": "[encoded data removed]",
      "text/plain": [
       "<Figure size 432x288 with 1 Axes>"
      ]
     },
     "metadata": {},
     "output_type": "display_data"
    }
   ],
   "source": [
    "# Distribution of output\n",
    "\n",
    "sns.countplot(x =\"Survived\", data = train_data)\n",
    "plt.title(\"Survived vs Not-Survived\")\n",
    "plt.show()"
   ]
  },
  {
   "cell_type": "code",
   "execution_count": 40,
   "metadata": {},
   "outputs": [
    {
     "name": "stdout",
     "output_type": "stream",
     "text": [
      "PassengerId      0\n",
      "Survived         0\n",
      "Pclass           0\n",
      "Name             0\n",
      "Sex              0\n",
      "Age            177\n",
      "SibSp            0\n",
      "Parch            0\n",
      "Ticket           0\n",
      "Fare             0\n",
      "Cabin          687\n",
      "Embarked         2\n",
      "dtype: int64\n"
     ]
    }
   ],
   "source": [
    "# Analysing Columns having missing/null vlaues\n",
    "\n",
    "null_values = train_data.isnull().sum()\n",
    "print(null_values)"
   ]
  },
  {
   "cell_type": "markdown",
   "metadata": {},
   "source": [
    "** Observations: **\n",
    "We see that apart from Age,Cabin and Embarked we do not have missing values in any other column."
   ]
  },
  {
   "cell_type": "code",
   "execution_count": 84,
   "metadata": {},
   "outputs": [
    {
     "name": "stdout",
     "output_type": "stream",
     "text": [
      "percent of data missing 19.865319865319865\n"
     ]
    },
    {
     "data": {
      "image/png": "[encoded data removed]",
      "text/plain": [
       "<Figure size 432x288 with 1 Axes>"
      ]
     },
     "metadata": {},
     "output_type": "display_data"
    }
   ],
   "source": [
    "# Analysing Age Column\n",
    "print('percent of data missing',train_data['Age'].isnull().sum()*100/train_data.shape[0])\n",
    "\n",
    "# Checking the distribution of Age\n",
    "data = train_data[train_data['Age'].notnull()]['Age']\n",
    "sns.distplot(data)\n",
    "plt.show()"
   ]
  },
  {
   "cell_type": "markdown",
   "metadata": {},
   "source": [
    "**Observations:**Seems like Age column distribution is symmetric about mean with little noise,hence it would be good to replace it with median."
   ]
  },
  {
   "cell_type": "code",
   "execution_count": 85,
   "metadata": {},
   "outputs": [
    {
     "name": "stdout",
     "output_type": "stream",
     "text": [
      "percent of data missing 77.10437710437711\n"
     ]
    }
   ],
   "source": [
    "# Analysing Cabin Column\n",
    "print('percent of data missing',train_data['Cabin'].isnull().sum()*100/train_data.shape[0])"
   ]
  },
  {
   "cell_type": "markdown",
   "metadata": {},
   "source": [
    "**Observations:** Seems like cabin data has lot of missing  values,hence it is better that we drop it."
   ]
  },
  {
   "cell_type": "code",
   "execution_count": 57,
   "metadata": {},
   "outputs": [
    {
     "name": "stdout",
     "output_type": "stream",
     "text": [
      "S      644\n",
      "C      168\n",
      "Q       77\n",
      "NaN      2\n",
      "Name: Embarked, dtype: int64\n"
     ]
    }
   ],
   "source": [
    "# Analysing Embarked Column\n",
    "print(train_data['Embarked'].value_counts(dropna=False))"
   ]
  },
  {
   "cell_type": "markdown",
   "metadata": {},
   "source": [
    "**Observations:** Found 2 null value in Embarked column,it could be better to replace them with the mode of the column."
   ]
  },
  {
   "cell_type": "code",
   "execution_count": 89,
   "metadata": {},
   "outputs": [
    {
     "data": {
      "image/png": "[encoded data removed]",
      "text/plain": [
       "<Figure size 432x288 with 1 Axes>"
      ]
     },
     "metadata": {},
     "output_type": "display_data"
    }
   ],
   "source": [
    "# Analysis on pclass\n",
    "\n",
    "sns.barplot(x=\"Pclass\", y=\"Survived\", data = train_data)\n",
    "plt.title(\"Survived vs pclass\")\n",
    "plt.show()"
   ]
  },
  {
   "cell_type": "markdown",
   "metadata": {},
   "source": [
    "**Observation:**   \n",
    "\n",
    "From the barplot it is evident that\n",
    "1. Above 60% of 1st class people has survived.\n",
    "2. Around 45% of 2nd class people has survived.\n",
    "3. Around 30% of 3rd calss people has survived."
   ]
  },
  {
   "cell_type": "code",
   "execution_count": 91,
   "metadata": {},
   "outputs": [
    {
     "data": {
      "image/png": "[encoded data removed]",
      "text/plain": [
       "<Figure size 432x288 with 1 Axes>"
      ]
     },
     "metadata": {},
     "output_type": "display_data"
    }
   ],
   "source": [
    "# Analysis on Sex\n",
    "\n",
    "sns.barplot(x=\"Sex\", y=\"Survived\", data = train_data)\n",
    "plt.title(\"Survived vs pclass\")\n",
    "plt.show()"
   ]
  },
  {
   "cell_type": "markdown",
   "metadata": {},
   "source": [
    "**Observations:**  \n",
    "\n",
    "From the barplot it is evident that\n",
    "\n",
    "1. Around 70% to 80% of people who has survived are females.\n",
    "2. Around 20 % of the people being males has survived."
   ]
  },
  {
   "cell_type": "code",
   "execution_count": 100,
   "metadata": {},
   "outputs": [
    {
     "data": {
      "image/png": "[encoded data removed]",
      "text/plain": [
       "<Figure size 1080x360 with 2 Axes>"
      ]
     },
     "metadata": {},
     "output_type": "display_data"
    }
   ],
   "source": [
    "# Analysis on Age\n",
    "\n",
    "data = train_data[train_data['Age'].notnull()]\n",
    "plt.figure(figsize=(15,5))\n",
    "plt.subplot(1, 2, 1)\n",
    "sns.distplot(data[data.Survived  == 1]['Age'])\n",
    "plt.title('Age vs Survived')\n",
    "plt.subplot(1, 2, 2)\n",
    "sns.distplot(data[data.Survived  == 0]['Age'])\n",
    "plt.title('Age vs Not-Survived')\n",
    "plt.show()"
   ]
  },
  {
   "cell_type": "markdown",
   "metadata": {},
   "source": [
    "**Observations:** Nothing information to be drawn from age,since both survived and not-survived gives similar plots except that there is a difference in the shape at the range of 0 to 10.Seems like children have survived more."
   ]
  },
  {
   "cell_type": "code",
   "execution_count": 106,
   "metadata": {},
   "outputs": [
    {
     "data": {
      "image/png": "[encoded data removed]",
      "text/plain": [
       "<Figure size 1080x360 with 2 Axes>"
      ]
     },
     "metadata": {},
     "output_type": "display_data"
    }
   ],
   "source": [
    "# Analysis on Fare\n",
    "\n",
    "plt.figure(figsize=(15,5))\n",
    "plt.subplot(1, 2, 1)\n",
    "sns.distplot(train_data[train_data.Survived  == 1]['Fare'])\n",
    "plt.title('Fare vs Survived')\n",
    "plt.subplot(1, 2, 2)\n",
    "sns.distplot(train_data[train_data.Survived  == 0]['Fare'])\n",
    "plt.title('Fare vs Not-Survived')\n",
    "plt.show()"
   ]
  },
  {
   "cell_type": "markdown",
   "metadata": {},
   "source": [
    "**Observations:**\n",
    "\n",
    "From the plot it is clear that\n",
    "1. Only 2% of people who have survived has a fare within 50 dollars.\n",
    "2. About 8% of people has not survived who has same fare."
   ]
  },
  {
   "cell_type": "code",
   "execution_count": 108,
   "metadata": {},
   "outputs": [
    {
     "data": {
      "text/html": [
       "<div>\n",
       "<style scoped>\n",
       "    .dataframe tbody tr th:only-of-type {\n",
       "        vertical-align: middle;\n",
       "    }\n",
       "\n",
       "    .dataframe tbody tr th {\n",
       "        vertical-align: top;\n",
       "    }\n",
       "\n",
       "    .dataframe thead th {\n",
       "        text-align: right;\n",
       "    }\n",
       "</style>\n",
       "<table border=\"1\" class=\"dataframe\">\n",
       "  <thead>\n",
       "    <tr style=\"text-align: right;\">\n",
       "      <th></th>\n",
       "      <th>PassengerId</th>\n",
       "      <th>Survived</th>\n",
       "      <th>Pclass</th>\n",
       "      <th>Age</th>\n",
       "      <th>SibSp</th>\n",
       "      <th>Parch</th>\n",
       "      <th>Fare</th>\n",
       "    </tr>\n",
       "  </thead>\n",
       "  <tbody>\n",
       "    <tr>\n",
       "      <th>PassengerId</th>\n",
       "      <td>1.000000</td>\n",
       "      <td>-0.005007</td>\n",
       "      <td>-0.035144</td>\n",
       "      <td>0.036847</td>\n",
       "      <td>-0.057527</td>\n",
       "      <td>-0.001652</td>\n",
       "      <td>0.012658</td>\n",
       "    </tr>\n",
       "    <tr>\n",
       "      <th>Survived</th>\n",
       "      <td>-0.005007</td>\n",
       "      <td>1.000000</td>\n",
       "      <td>-0.338481</td>\n",
       "      <td>-0.077221</td>\n",
       "      <td>-0.035322</td>\n",
       "      <td>0.081629</td>\n",
       "      <td>0.257307</td>\n",
       "    </tr>\n",
       "    <tr>\n",
       "      <th>Pclass</th>\n",
       "      <td>-0.035144</td>\n",
       "      <td>-0.338481</td>\n",
       "      <td>1.000000</td>\n",
       "      <td>-0.369226</td>\n",
       "      <td>0.083081</td>\n",
       "      <td>0.018443</td>\n",
       "      <td>-0.549500</td>\n",
       "    </tr>\n",
       "    <tr>\n",
       "      <th>Age</th>\n",
       "      <td>0.036847</td>\n",
       "      <td>-0.077221</td>\n",
       "      <td>-0.369226</td>\n",
       "      <td>1.000000</td>\n",
       "      <td>-0.308247</td>\n",
       "      <td>-0.189119</td>\n",
       "      <td>0.096067</td>\n",
       "    </tr>\n",
       "    <tr>\n",
       "      <th>SibSp</th>\n",
       "      <td>-0.057527</td>\n",
       "      <td>-0.035322</td>\n",
       "      <td>0.083081</td>\n",
       "      <td>-0.308247</td>\n",
       "      <td>1.000000</td>\n",
       "      <td>0.414838</td>\n",
       "      <td>0.159651</td>\n",
       "    </tr>\n",
       "    <tr>\n",
       "      <th>Parch</th>\n",
       "      <td>-0.001652</td>\n",
       "      <td>0.081629</td>\n",
       "      <td>0.018443</td>\n",
       "      <td>-0.189119</td>\n",
       "      <td>0.414838</td>\n",
       "      <td>1.000000</td>\n",
       "      <td>0.216225</td>\n",
       "    </tr>\n",
       "    <tr>\n",
       "      <th>Fare</th>\n",
       "      <td>0.012658</td>\n",
       "      <td>0.257307</td>\n",
       "      <td>-0.549500</td>\n",
       "      <td>0.096067</td>\n",
       "      <td>0.159651</td>\n",
       "      <td>0.216225</td>\n",
       "      <td>1.000000</td>\n",
       "    </tr>\n",
       "  </tbody>\n",
       "</table>\n",
       "</div>"
      ],
      "text/plain": [
       "             PassengerId  Survived    Pclass       Age     SibSp     Parch  \\\n",
       "PassengerId     1.000000 -0.005007 -0.035144  0.036847 -0.057527 -0.001652   \n",
       "Survived       -0.005007  1.000000 -0.338481 -0.077221 -0.035322  0.081629   \n",
       "Pclass         -0.035144 -0.338481  1.000000 -0.369226  0.083081  0.018443   \n",
       "Age             0.036847 -0.077221 -0.369226  1.000000 -0.308247 -0.189119   \n",
       "SibSp          -0.057527 -0.035322  0.083081 -0.308247  1.000000  0.414838   \n",
       "Parch          -0.001652  0.081629  0.018443 -0.189119  0.414838  1.000000   \n",
       "Fare            0.012658  0.257307 -0.549500  0.096067  0.159651  0.216225   \n",
       "\n",
       "                 Fare  \n",
       "PassengerId  0.012658  \n",
       "Survived     0.257307  \n",
       "Pclass      -0.549500  \n",
       "Age          0.096067  \n",
       "SibSp        0.159651  \n",
       "Parch        0.216225  \n",
       "Fare         1.000000  "
      ]
     },
     "execution_count": 108,
     "metadata": {},
     "output_type": "execute_result"
    }
   ],
   "source": [
    "# Checking correlations between features.\n",
    "\n",
    "train_data.corr()"
   ]
  },
  {
   "cell_type": "markdown",
   "metadata": {},
   "source": [
    "**Observations:**\n",
    "\n",
    "1. Positive correlation  :  Fare,Parch\n",
    "2. Negative correlation  :  Pclass,Age,SibSp,PassengerId\n",
    "3. Fare vs Survived  :  Positive correlation indicating an increase in fare will increase the chances of survival\n",
    "4. Parch vs Survived  :  Not highly correlated,but shows a positive correlation\n",
    "5. Pclass vs Survived  :  Class is inversely propotional to chances of survival.1st class has higher chances of surviving than 2nd class ,2nd class has higher chances of survival than 3rd class.\n",
    "6. Age vs Survived :  Negative correlation indicating least the age,higher is the chance of survival.\n",
    "7. Sibsp vs Survived  :  Negative correaltion indicating lesser is the number of sibblings/spouses,more are the chance of survival.\n",
    "8. Need not worry about PassengerId since it is an unique identifier.\n",
    "9. Highest positive correlation could be seen from Fare and survived indicating an increase in fare will increase the chances of survival.\n",
    "10. Highest negative correlation could be seen from Pclass and Fare indicating,1st class paid more than 2nd class,and 2nd class paid more than 3rd class."
   ]
  },
  {
   "cell_type": "markdown",
   "metadata": {},
   "source": [
    "# Data Preparation"
   ]
  },
  {
   "cell_type": "code",
   "execution_count": 238,
   "metadata": {},
   "outputs": [
    {
     "name": "stdout",
     "output_type": "stream",
     "text": [
      "S    646\n",
      "C    168\n",
      "Q     77\n",
      "Name: Embarked, dtype: int64\n"
     ]
    }
   ],
   "source": [
    "#Fill null value with the mode(S) of the column\n",
    "train_data[\"Embarked\"].fillna(\"S\", inplace = True)\n",
    "print(train_data['Embarked'].value_counts(dropna=False))"
   ]
  },
  {
   "cell_type": "code",
   "execution_count": 239,
   "metadata": {},
   "outputs": [],
   "source": [
    "#Fill null value with the median(S) of the column\n",
    "train_data[\"Age\"].fillna(train_data[\"Age\"].median(), inplace = True)"
   ]
  },
  {
   "cell_type": "code",
   "execution_count": 240,
   "metadata": {},
   "outputs": [],
   "source": [
    "#Drop \"Cabin\"-Lot of missing values, \"Ticket\"-Adds no onformation to the model,\"Name\"-Adds no information to model,\"PassengerId\" -unique identifier.\n",
    "train_data.drop(labels = [\"Cabin\", \"Ticket\",\"Name\",\"PassengerId\"], axis = 1, inplace = True)"
   ]
  },
  {
   "cell_type": "code",
   "execution_count": 241,
   "metadata": {},
   "outputs": [
    {
     "data": {
      "text/plain": [
       "Survived    0\n",
       "Pclass      0\n",
       "Sex         0\n",
       "Age         0\n",
       "SibSp       0\n",
       "Parch       0\n",
       "Fare        0\n",
       "Embarked    0\n",
       "dtype: int64"
      ]
     },
     "execution_count": 241,
     "metadata": {},
     "output_type": "execute_result"
    }
   ],
   "source": [
    "train_data.isnull().sum()"
   ]
  },
  {
   "cell_type": "code",
   "execution_count": 242,
   "metadata": {
    "scrolled": true
   },
   "outputs": [
    {
     "data": {
      "text/plain": [
       "Index(['Survived', 'Pclass', 'Sex', 'Age', 'SibSp', 'Parch', 'Fare',\n",
       "       'Embarked'],\n",
       "      dtype='object')"
      ]
     },
     "execution_count": 242,
     "metadata": {},
     "output_type": "execute_result"
    }
   ],
   "source": [
    "train_data.columns"
   ]
  },
  {
   "cell_type": "markdown",
   "metadata": {},
   "source": [
    "# Featurization"
   ]
  },
  {
   "cell_type": "code",
   "execution_count": 243,
   "metadata": {},
   "outputs": [
    {
     "data": {
      "text/plain": [
       "{'female', 'male'}"
      ]
     },
     "execution_count": 243,
     "metadata": {},
     "output_type": "execute_result"
    }
   ],
   "source": [
    "# convert sex,a categorical text column to categorical numeric.\n",
    "\n",
    "set(train_data['Sex'])"
   ]
  },
  {
   "cell_type": "code",
   "execution_count": 244,
   "metadata": {},
   "outputs": [
    {
     "data": {
      "text/plain": [
       "{0, 1}"
      ]
     },
     "execution_count": 244,
     "metadata": {},
     "output_type": "execute_result"
    }
   ],
   "source": [
    "train_data.loc[train_data['Sex'] =='male', 'Sex'] = 1\n",
    "train_data.loc[train_data['Sex'] == 'female','Sex'] = 0\n",
    "\n",
    "set(train_data['Sex'])"
   ]
  },
  {
   "cell_type": "code",
   "execution_count": 245,
   "metadata": {},
   "outputs": [
    {
     "data": {
      "text/plain": [
       "{'C', 'Q', 'S'}"
      ]
     },
     "execution_count": 245,
     "metadata": {},
     "output_type": "execute_result"
    }
   ],
   "source": [
    "# Convert Embarked a categorical column to Numerical.\n",
    "\n",
    "set(train_data['Embarked'])"
   ]
  },
  {
   "cell_type": "code",
   "execution_count": 246,
   "metadata": {},
   "outputs": [
    {
     "data": {
      "text/plain": [
       "{1, 2, 3}"
      ]
     },
     "execution_count": 246,
     "metadata": {},
     "output_type": "execute_result"
    }
   ],
   "source": [
    "train_data.loc[train_data['Embarked'] =='C', 'Embarked'] = 1\n",
    "train_data.loc[train_data['Embarked'] == 'Q','Embarked'] = 2\n",
    "train_data.loc[train_data['Embarked'] == 'S','Embarked'] = 3\n",
    "\n",
    "set(train_data['Embarked'])"
   ]
  },
  {
   "cell_type": "code",
   "execution_count": 247,
   "metadata": {},
   "outputs": [],
   "source": [
    "#Considering sibling+spouse+Parents+Children as family size\n",
    "train_data[\"total_family\"] = train_data[\"SibSp\"] + train_data[\"Parch\"] + 1"
   ]
  },
  {
   "cell_type": "code",
   "execution_count": 248,
   "metadata": {},
   "outputs": [],
   "source": [
    "#Checking if the person is single(if single = 1 ,else = 0).\n",
    "train_data[\"single\"] = train_data.total_family.apply(lambda x: 1 if x == 1 else 0)"
   ]
  },
  {
   "cell_type": "code",
   "execution_count": 249,
   "metadata": {},
   "outputs": [
    {
     "data": {
      "text/html": [
       "<div>\n",
       "<style scoped>\n",
       "    .dataframe tbody tr th:only-of-type {\n",
       "        vertical-align: middle;\n",
       "    }\n",
       "\n",
       "    .dataframe tbody tr th {\n",
       "        vertical-align: top;\n",
       "    }\n",
       "\n",
       "    .dataframe thead th {\n",
       "        text-align: right;\n",
       "    }\n",
       "</style>\n",
       "<table border=\"1\" class=\"dataframe\">\n",
       "  <thead>\n",
       "    <tr style=\"text-align: right;\">\n",
       "      <th></th>\n",
       "      <th>Survived</th>\n",
       "      <th>Pclass</th>\n",
       "      <th>Sex</th>\n",
       "      <th>Age</th>\n",
       "      <th>SibSp</th>\n",
       "      <th>Parch</th>\n",
       "      <th>Fare</th>\n",
       "      <th>Embarked</th>\n",
       "      <th>total_family</th>\n",
       "      <th>single</th>\n",
       "    </tr>\n",
       "  </thead>\n",
       "  <tbody>\n",
       "    <tr>\n",
       "      <th>0</th>\n",
       "      <td>0</td>\n",
       "      <td>3</td>\n",
       "      <td>1</td>\n",
       "      <td>22.0</td>\n",
       "      <td>1</td>\n",
       "      <td>0</td>\n",
       "      <td>7.2500</td>\n",
       "      <td>3</td>\n",
       "      <td>2</td>\n",
       "      <td>0</td>\n",
       "    </tr>\n",
       "    <tr>\n",
       "      <th>1</th>\n",
       "      <td>1</td>\n",
       "      <td>1</td>\n",
       "      <td>0</td>\n",
       "      <td>38.0</td>\n",
       "      <td>1</td>\n",
       "      <td>0</td>\n",
       "      <td>71.2833</td>\n",
       "      <td>1</td>\n",
       "      <td>2</td>\n",
       "      <td>0</td>\n",
       "    </tr>\n",
       "    <tr>\n",
       "      <th>2</th>\n",
       "      <td>1</td>\n",
       "      <td>3</td>\n",
       "      <td>0</td>\n",
       "      <td>26.0</td>\n",
       "      <td>0</td>\n",
       "      <td>0</td>\n",
       "      <td>7.9250</td>\n",
       "      <td>3</td>\n",
       "      <td>1</td>\n",
       "      <td>1</td>\n",
       "    </tr>\n",
       "    <tr>\n",
       "      <th>3</th>\n",
       "      <td>1</td>\n",
       "      <td>1</td>\n",
       "      <td>0</td>\n",
       "      <td>35.0</td>\n",
       "      <td>1</td>\n",
       "      <td>0</td>\n",
       "      <td>53.1000</td>\n",
       "      <td>3</td>\n",
       "      <td>2</td>\n",
       "      <td>0</td>\n",
       "    </tr>\n",
       "    <tr>\n",
       "      <th>4</th>\n",
       "      <td>0</td>\n",
       "      <td>3</td>\n",
       "      <td>1</td>\n",
       "      <td>35.0</td>\n",
       "      <td>0</td>\n",
       "      <td>0</td>\n",
       "      <td>8.0500</td>\n",
       "      <td>3</td>\n",
       "      <td>1</td>\n",
       "      <td>1</td>\n",
       "    </tr>\n",
       "  </tbody>\n",
       "</table>\n",
       "</div>"
      ],
      "text/plain": [
       "   Survived  Pclass  Sex   Age  SibSp  Parch     Fare  Embarked  total_family  \\\n",
       "0         0       3    1  22.0      1      0   7.2500         3             2   \n",
       "1         1       1    0  38.0      1      0  71.2833         1             2   \n",
       "2         1       3    0  26.0      0      0   7.9250         3             1   \n",
       "3         1       1    0  35.0      1      0  53.1000         3             2   \n",
       "4         0       3    1  35.0      0      0   8.0500         3             1   \n",
       "\n",
       "   single  \n",
       "0       0  \n",
       "1       0  \n",
       "2       1  \n",
       "3       0  \n",
       "4       1  "
      ]
     },
     "execution_count": 249,
     "metadata": {},
     "output_type": "execute_result"
    }
   ],
   "source": [
    "train_data.head()"
   ]
  },
  {
   "cell_type": "markdown",
   "metadata": {},
   "source": [
    "# Split Data"
   ]
  },
  {
   "cell_type": "code",
   "execution_count": 250,
   "metadata": {},
   "outputs": [],
   "source": [
    "Y = train_data['Survived']\n",
    "train_data.drop(labels = ['Survived'], axis = 1, inplace = True)"
   ]
  },
  {
   "cell_type": "code",
   "execution_count": 251,
   "metadata": {},
   "outputs": [
    {
     "data": {
      "text/plain": [
       "((623, 9), (268, 9), (623,), (268,))"
      ]
     },
     "execution_count": 251,
     "metadata": {},
     "output_type": "execute_result"
    }
   ],
   "source": [
    "X_train, X_test, y_train, y_test = train_test_split(train_data, Y, test_size=0.30, random_state=42)\n",
    "X_train.shape,X_test.shape,y_train.shape,y_test.shape"
   ]
  },
  {
   "cell_type": "markdown",
   "metadata": {},
   "source": [
    "# Machine Learning Models"
   ]
  },
  {
   "cell_type": "markdown",
   "metadata": {},
   "source": [
    "# K-NN"
   ]
  },
  {
   "cell_type": "code",
   "execution_count": 165,
   "metadata": {},
   "outputs": [
    {
     "name": "stdout",
     "output_type": "stream",
     "text": [
      "[{'n_neighbors': [5, 7, 9, 11, 13, 15, 17, 19]}]\n"
     ]
    },
    {
     "data": {
      "image/png": "[encoded data removed]",
      "text/plain": [
       "<Figure size 432x288 with 1 Axes>"
      ]
     },
     "metadata": {},
     "output_type": "display_data"
    },
    {
     "name": "stdout",
     "output_type": "stream",
     "text": [
      "the best k-value is 17\n",
      "Accuracy of train data 0.7399678972712681\n",
      "Accuracy of test data 0.7052238805970149\n"
     ]
    },
    {
     "data": {
      "text/plain": [
       "<matplotlib.axes._subplots.AxesSubplot at 0x168755565f8>"
      ]
     },
     "execution_count": 165,
     "metadata": {},
     "output_type": "execute_result"
    },
    {
     "data": {
      "image/png": "[encoded data removed]",
      "text/plain": [
       "<Figure size 432x288 with 2 Axes>"
      ]
     },
     "metadata": {},
     "output_type": "display_data"
    }
   ],
   "source": [
    "grid_hyperparameter = [{'n_neighbors':[5, 7, 9, 11, 13, 15, 17, 19]}]\n",
    "print(grid_hyperparameter)\n",
    "\n",
    "knn_model = GridSearchCV(KNN(algorithm = 'kd_tree'),grid_hyperparameter,scoring = 'accuracy', cv=3)\n",
    "knn_model.fit(X_train,y_train)\n",
    "\n",
    "#plot cv errors\n",
    "errors = [(1-x[1])*100 for x in knn_model.grid_scores_]\n",
    "plt.plot(grid_hyperparameter[0]['n_neighbors'],errors)\n",
    "for xy in zip(grid_hyperparameter[0]['n_neighbors'],np.round(errors,1)):\n",
    "    plt.annotate('(%s, %s)' % xy, xy=xy, textcoords='data')\n",
    "plt.xlabel('grid_hyperparameter')\n",
    "plt.ylabel('cv_errors')\n",
    "plt.title('grid_hyperparameter vs cv_errors')\n",
    "plt.show()\n",
    "\n",
    "k = knn_model.best_estimator_.get_params()['n_neighbors']\n",
    "knn_train_score = knn_model.score(X_train,y_train)\n",
    "knn_test_score = knn_model.score(X_test, y_test)\n",
    "print('the best k-value is',k)\n",
    "print('Accuracy of train data',knn_train_score)\n",
    "print('Accuracy of test data',knn_test_score)\n",
    "\n",
    "knn_model = KNN(n_neighbors= 9,algorithm = 'kd_tree')\n",
    "knn_model.fit(X_train,y_train)\n",
    "\n",
    "pred = knn_model.predict(X_test)\n",
    "skplt.metrics.plot_confusion_matrix(y_test, pred, normalize=False)"
   ]
  },
  {
   "cell_type": "markdown",
   "metadata": {},
   "source": [
    "# Naive Bayes"
   ]
  },
  {
   "cell_type": "code",
   "execution_count": 200,
   "metadata": {},
   "outputs": [
    {
     "name": "stdout",
     "output_type": "stream",
     "text": [
      "[{'alpha': [1e-06, 1e-05, 0.0001, 0.001, 0.01, 1, 10, 100, 500]}]\n"
     ]
    },
    {
     "data": {
      "image/png": "[encoded data removed]",
      "text/plain": [
       "<Figure size 432x288 with 1 Axes>"
      ]
     },
     "metadata": {},
     "output_type": "display_data"
    },
    {
     "name": "stdout",
     "output_type": "stream",
     "text": [
      "the best alpha-value is 100\n",
      "Accuracy of train data 0.680577849117175\n",
      "Accuracy of test data 0.7052238805970149\n"
     ]
    },
    {
     "data": {
      "image/png": "[encoded data removed]",
      "text/plain": [
       "<Figure size 432x288 with 2 Axes>"
      ]
     },
     "metadata": {},
     "output_type": "display_data"
    },
    {
     "name": "stdout",
     "output_type": "stream",
     "text": [
      "Features important for not survived Index(['Parch', 'SibSp'], dtype='object')\n",
      "Features important for survived Index(['Sex', 'Parch'], dtype='object')\n"
     ]
    }
   ],
   "source": [
    "grid_hyperparameter = [{'alpha':[0.000001,0.00001, 0.0001, 0.001, 0.01, 1, 10, 100,500]}]\n",
    "print(grid_hyperparameter)\n",
    "\n",
    "NB_model = GridSearchCV(NB(),grid_hyperparameter,scoring = 'accuracy', cv=3)\n",
    "NB_model.fit(X_train,y_train)\n",
    "\n",
    "#plot cv errors\n",
    "errors = [(1-x[1])*100 for x in NB_model.grid_scores_]\n",
    "plt.plot(grid_hyperparameter[0]['alpha'],errors)\n",
    "for xy in zip(grid_hyperparameter[0]['alpha'],np.round(errors,1)):\n",
    "    plt.annotate('(%s, %s)' % xy, xy=xy, textcoords='data')\n",
    "plt.xlabel('grid_hyperparameter')\n",
    "plt.ylabel('cv_errors')\n",
    "plt.title('grid_hyperparameter vs cv_errors')\n",
    "plt.show()\n",
    "\n",
    "alpha = NB_model.best_estimator_.get_params()['alpha']\n",
    "NB_train_score = NB_model.score(X_train,y_train)\n",
    "NB_test_score = NB_model.score(X_test, y_test)\n",
    "print('the best alpha-value is',alpha)\n",
    "print('Accuracy of train data',NB_train_score)\n",
    "print('Accuracy of test data',NB_test_score)\n",
    "\n",
    "NB_model = NB(alpha = alpha)\n",
    "NB_model.fit(X_train,y_train)\n",
    "\n",
    "pred = NB_model.predict(X_test)\n",
    "skplt.metrics.plot_confusion_matrix(y_test, pred, normalize=False)\n",
    "plt.show()\n",
    "\n",
    "#Features that are important in analysing people who could not survive\n",
    "neg_probs = NB_model.feature_log_prob_[0, :].argsort()\n",
    "print('Features important for not survived',np.take(X_train.columns, neg_probs[0:2]))\n",
    "\n",
    "#Features that are important in analysing people who could survive\n",
    "pos_probs = NB_model.feature_log_prob_[1, :].argsort()\n",
    "print('Features important for survived',np.take(X_train.columns, pos_probs[0:2]))"
   ]
  },
  {
   "cell_type": "markdown",
   "metadata": {},
   "source": [
    "# Logistic Regression"
   ]
  },
  {
   "cell_type": "code",
   "execution_count": 204,
   "metadata": {},
   "outputs": [
    {
     "name": "stdout",
     "output_type": "stream",
     "text": [
      "[{'C': [0.0001, 0.001, 0.01, 0.1, 1, 10, 100, 1000]}]\n"
     ]
    },
    {
     "data": {
      "image/png": "[encoded data removed]",
      "text/plain": [
       "<Figure size 432x288 with 1 Axes>"
      ]
     },
     "metadata": {},
     "output_type": "display_data"
    },
    {
     "name": "stdout",
     "output_type": "stream",
     "text": [
      "the best C-value is 100\n",
      "Accuracy of train data 0.7961476725521669\n",
      "Accuracy of test data 0.8059701492537313\n"
     ]
    },
    {
     "data": {
      "image/png": "[encoded data removed]",
      "text/plain": [
       "<Figure size 432x288 with 2 Axes>"
      ]
     },
     "metadata": {},
     "output_type": "display_data"
    },
    {
     "name": "stdout",
     "output_type": "stream",
     "text": [
      "Important Features Index(['Sex', 'SibSp'], dtype='object')\n"
     ]
    }
   ],
   "source": [
    "grid_hyperparameter = [{'C':[0.0001,0.001,0.01,0.1,1,10,100,1000]}]\n",
    "print(grid_hyperparameter)\n",
    "\n",
    "LR_model = GridSearchCV(LogisticRegression(penalty='l2'),grid_hyperparameter,scoring = 'accuracy', cv=3)\n",
    "LR_model.fit(X_train,y_train)\n",
    "\n",
    "#plot cv errors\n",
    "errors = [(1-x[1])*100 for x in LR_model.grid_scores_]\n",
    "plt.plot(grid_hyperparameter[0]['C'],errors)\n",
    "for xy in zip(grid_hyperparameter[0]['C'],np.round(errors,1)):\n",
    "    plt.annotate('(%s, %s)' % xy, xy=xy, textcoords='data')\n",
    "plt.xlabel('grid_hyperparameter')\n",
    "plt.ylabel('cv_errors')\n",
    "plt.title('grid_hyperparameter vs cv_errors')\n",
    "plt.show()\n",
    "\n",
    "C = LR_model.best_estimator_.get_params()['C']\n",
    "LR_train_score = LR_model.score(X_train,y_train)\n",
    "LR_test_score = LR_model.score(X_test, y_test)\n",
    "print('the best C-value is',alpha)\n",
    "print('Accuracy of train data',LR_train_score)\n",
    "print('Accuracy of test data',LR_test_score)\n",
    "\n",
    "LR_model = LogisticRegression(penalty='l2',C= C)\n",
    "LR_model.fit(X_train,y_train)\n",
    "\n",
    "pred = LR_model.predict(X_test)\n",
    "skplt.metrics.plot_confusion_matrix(y_test, pred, normalize=False)\n",
    "plt.show()\n",
    "\n",
    "#Important Features\n",
    "indx = LR_model.coef_.argsort()\n",
    "print('Important Features',np.take(X_train.columns, indx[0][:2]))"
   ]
  },
  {
   "cell_type": "markdown",
   "metadata": {},
   "source": [
    "# SVM"
   ]
  },
  {
   "cell_type": "code",
   "execution_count": 205,
   "metadata": {
    "scrolled": false
   },
   "outputs": [
    {
     "name": "stdout",
     "output_type": "stream",
     "text": [
      "[{'alpha': [1e-06, 1e-05, 0.0001, 0.001, 0.01, 1, 10, 100]}]\n"
     ]
    },
    {
     "data": {
      "image/png": "[encoded data removed]",
      "text/plain": [
       "<Figure size 432x288 with 1 Axes>"
      ]
     },
     "metadata": {},
     "output_type": "display_data"
    },
    {
     "name": "stdout",
     "output_type": "stream",
     "text": [
      "the best C-value is 100\n",
      "Accuracy of train data 0.7752808988764045\n",
      "Accuracy of test data 0.8022388059701493\n"
     ]
    },
    {
     "data": {
      "image/png": "[encoded data removed]",
      "text/plain": [
       "<Figure size 432x288 with 2 Axes>"
      ]
     },
     "metadata": {},
     "output_type": "display_data"
    },
    {
     "name": "stdout",
     "output_type": "stream",
     "text": [
      "Important Features Index(['Sex', 'single'], dtype='object')\n"
     ]
    }
   ],
   "source": [
    "grid_hyperparameter = [{'alpha':[0.000001,0.00001, 0.0001, 0.001, 0.01, 1, 10, 100]}]\n",
    "print(grid_hyperparameter)\n",
    "\n",
    "SVM_model = GridSearchCV(SGDClassifier(penalty='l2',loss='hinge',max_iter=1000),grid_hyperparameter,scoring = 'accuracy', cv=3)\n",
    "SVM_model.fit(X_train,y_train)\n",
    "\n",
    "#plot cv errors\n",
    "errors = [(1-x[1])*100 for x in SVM_model.grid_scores_]\n",
    "plt.plot(grid_hyperparameter[0]['alpha'],errors)\n",
    "for xy in zip(grid_hyperparameter[0]['alpha'],np.round(errors,1)):\n",
    "    plt.annotate('(%s, %s)' % xy, xy=xy, textcoords='data')\n",
    "plt.xlabel('grid_hyperparameter')\n",
    "plt.ylabel('cv_errors')\n",
    "plt.title('grid_hyperparameter vs cv_errors')\n",
    "plt.show()\n",
    "\n",
    "SVM_alpha = SVM_model.best_estimator_.get_params()['alpha']\n",
    "SVM_train_score = SVM_model.score(X_train,y_train)\n",
    "SVM_test_score = SVM_model.score(X_test, y_test)\n",
    "print('the best C-value is',alpha)\n",
    "print('Accuracy of train data',SVM_train_score)\n",
    "print('Accuracy of test data',SVM_test_score)\n",
    "\n",
    "SVM_model = SGDClassifier(alpha = SVM_alpha,penalty='l2',loss='hinge',max_iter=1000)\n",
    "SVM_model.fit(X_train,y_train)\n",
    "\n",
    "pred = SVM_model.predict(X_test)\n",
    "skplt.metrics.plot_confusion_matrix(y_test, pred, normalize=False)\n",
    "plt.show()\n",
    "\n",
    "#Important Features\n",
    "indx = SVM_model.coef_.argsort()\n",
    "print('Important Features',np.take(X_train.columns, indx[0][:2]))"
   ]
  },
  {
   "cell_type": "markdown",
   "metadata": {},
   "source": [
    "# Decision Tress"
   ]
  },
  {
   "cell_type": "code",
   "execution_count": 214,
   "metadata": {},
   "outputs": [
    {
     "name": "stdout",
     "output_type": "stream",
     "text": [
      "[{'max_depth': [1, 5, 10, 50, 100, 500, 100]}]\n"
     ]
    },
    {
     "data": {
      "image/png": "[encoded data removed]",
      "text/plain": [
       "<Figure size 432x288 with 1 Axes>"
      ]
     },
     "metadata": {},
     "output_type": "display_data"
    },
    {
     "name": "stdout",
     "output_type": "stream",
     "text": [
      "the best max_depth is 5\n",
      "Accuracy of train data 0.85553772070626\n",
      "Accuracy of test data 0.7947761194029851\n"
     ]
    },
    {
     "data": {
      "image/png": "[encoded data removed]",
      "text/plain": [
       "<Figure size 432x288 with 2 Axes>"
      ]
     },
     "metadata": {},
     "output_type": "display_data"
    },
    {
     "name": "stdout",
     "output_type": "stream",
     "text": [
      "Important Features Index(['SibSp', 'single'], dtype='object')\n"
     ]
    }
   ],
   "source": [
    "grid_hyperparameter = [{'max_depth':[1, 5, 10, 50, 100, 500, 100]}]\n",
    "print(grid_hyperparameter)\n",
    "\n",
    "DT_model = GridSearchCV(DecisionTreeClassifier(),grid_hyperparameter,scoring = 'accuracy', cv=3)\n",
    "DT_model.fit(X_train,y_train)\n",
    "\n",
    "#plot cv errors\n",
    "errors = [(1-x[1])*100 for x in DT_model.grid_scores_]\n",
    "plt.plot(grid_hyperparameter[0]['max_depth'],errors)\n",
    "for xy in zip(grid_hyperparameter[0]['max_depth'],np.round(errors,1)):\n",
    "    plt.annotate('(%s, %s)' % xy, xy=xy, textcoords='data')\n",
    "plt.xlabel('grid_hyperparameter')\n",
    "plt.ylabel('cv_errors')\n",
    "plt.title('grid_hyperparameter vs cv_errors')\n",
    "plt.show()\n",
    "\n",
    "DT_depth = DT_model.best_estimator_.get_params()['max_depth']\n",
    "DT_train_score = DT_model.score(X_train,y_train)\n",
    "DT_test_score = DT_model.score(X_test, y_test)\n",
    "print('the best max_depth is',DT_depth)\n",
    "print('Accuracy of train data',DT_train_score)\n",
    "print('Accuracy of test data',DT_test_score)\n",
    "\n",
    "DT_model = DecisionTreeClassifier(max_depth = DT_depth)\n",
    "DT_model.fit(X_train,y_train)\n",
    "\n",
    "pred = DT_model.predict(X_test)\n",
    "skplt.metrics.plot_confusion_matrix(y_test, pred, normalize=False)\n",
    "plt.show()\n",
    "\n",
    "#Important Features\n",
    "indx = np.argsort(DT_model.feature_importances_)\n",
    "print('Important Features',np.take(X_train.columns, indx[:2]))"
   ]
  },
  {
   "cell_type": "markdown",
   "metadata": {},
   "source": [
    "# Random Forest"
   ]
  },
  {
   "cell_type": "code",
   "execution_count": 218,
   "metadata": {
    "scrolled": false
   },
   "outputs": [
    {
     "data": {
      "image/png": "[encoded data removed]",
      "text/plain": [
       "<Figure size 432x288 with 2 Axes>"
      ]
     },
     "metadata": {},
     "output_type": "display_data"
    },
    {
     "name": "stdout",
     "output_type": "stream",
     "text": [
      "the best max_depth is 5\n",
      "the best max_depth is 100\n",
      "Accuracy of train data 0.869983948635634\n",
      "Accuracy of test data 0.8134328358208955\n"
     ]
    },
    {
     "data": {
      "image/png": "[encoded data removed]",
      "text/plain": [
       "<Figure size 432x288 with 2 Axes>"
      ]
     },
     "metadata": {},
     "output_type": "display_data"
    },
    {
     "name": "stdout",
     "output_type": "stream",
     "text": [
      "Important Features Index(['single', 'Parch'], dtype='object')\n"
     ]
    }
   ],
   "source": [
    "grid_hyperparameter = [{'n_estimators'  : [100, 200, 500, 1000, 2000],'max_depth':[5,10]}]\n",
    "grid_hyperparameter\n",
    "\n",
    "clf = GridSearchCV(RandomForestClassifier(criterion='gini'),grid_hyperparameter,scoring = 'accuracy', cv=3)\n",
    "clf.fit(X_train,y_train)\n",
    "\n",
    "n_estimators = grid_hyperparameter[0]['n_estimators']\n",
    "max_depth = grid_hyperparameter[0]['max_depth']\n",
    "df = pd.DataFrame(clf.grid_scores_)\n",
    "scores = np.array(df['mean_validation_score']).reshape(2,5)\n",
    "fig, ax = plt.subplots()\n",
    "plt.imshow(scores, interpolation='nearest')\n",
    "plt.colorbar()\n",
    "for i in range(len(max_depth)):\n",
    "    for j in range(len(n_estimators)):\n",
    "        text = ax.text(j, i, np.round(scores[i, j],3),\n",
    "                       ha=\"center\", va=\"center\", color=\"w\")\n",
    "ax.set_xticks(np.arange(len(n_estimators)))\n",
    "ax.set_yticks(np.arange(len(max_depth)))\n",
    "ax.set_xticklabels(n_estimators)\n",
    "ax.set_yticklabels(max_depth)\n",
    "plt.xlabel('n_estimators')\n",
    "plt.ylabel('max_depth')\n",
    "ax.set_title(\"Grid Search f1 Score\")\n",
    "fig.tight_layout()\n",
    "plt.show()\n",
    "\n",
    "clf_n = clf.best_estimator_.get_params()['n_estimators']\n",
    "clf_depth = clf.best_estimator_.get_params()['max_depth']\n",
    "clf_train_score = clf.score(X_train,y_train)\n",
    "clf_test_score = clf.score(X_test, y_test)\n",
    "print('the best max_depth is',clf_depth)\n",
    "print('the best max_depth is',clf_n)\n",
    "print('Accuracy of train data',clf_train_score)\n",
    "print('Accuracy of test data',clf_test_score)\n",
    "\n",
    "clf = RandomForestClassifier(class_weight = 'balanced',n_estimators=clf_n, criterion='gini', max_depth=clf_depth, random_state=42, n_jobs=-1)\n",
    "clf.fit(X_train,y_train)\n",
    "\n",
    "pred = clf.predict(X_test)\n",
    "skplt.metrics.plot_confusion_matrix(y_test, pred, normalize=False)\n",
    "plt.show()\n",
    "\n",
    "#Important Features\n",
    "indx = np.argsort(clf.feature_importances_)\n",
    "print('Important Features',np.take(X_train.columns, indx[:2]))"
   ]
  },
  {
   "cell_type": "markdown",
   "metadata": {},
   "source": [
    "# XGB"
   ]
  },
  {
   "cell_type": "code",
   "execution_count": 227,
   "metadata": {},
   "outputs": [
    {
     "data": {
      "text/plain": [
       "[50, 100, 500, 1000, 2000]"
      ]
     },
     "execution_count": 227,
     "metadata": {},
     "output_type": "execute_result"
    }
   ],
   "source": [
    "xg_n_estimator = clf.best_estimator_.get_params()['n_estimators']\n",
    "xg_max_depths = clf.best_estimator_.get_params()['max_depth']\n",
    "xg_train_score = clf.score(X_train,y_train)\n",
    "xg_test_score = clf.score(X_test, y_test)\n",
    "print('the best max_depth is',clf_depth)\n",
    "print('the best max_depth is',clf_n)\n",
    "print('Accuracy of train data',clf_train_score)\n",
    "print('Accuracy of test data',clf_test_score)"
   ]
  },
  {
   "cell_type": "code",
   "execution_count": 229,
   "metadata": {},
   "outputs": [
    {
     "data": {
      "image/png": "[encoded data removed]",
      "text/plain": [
       "<Figure size 432x288 with 2 Axes>"
      ]
     },
     "metadata": {},
     "output_type": "display_data"
    },
    {
     "name": "stdout",
     "output_type": "stream",
     "text": [
      "the best max_depth is 5\n",
      "the best max_depth is 50\n",
      "Accuracy of train data 0.8972712680577849\n",
      "Accuracy of test data 0.7910447761194029\n"
     ]
    },
    {
     "data": {
      "image/png": "[encoded data removed]",
      "text/plain": [
       "<Figure size 432x288 with 2 Axes>"
      ]
     },
     "metadata": {},
     "output_type": "display_data"
    }
   ],
   "source": [
    "grid_hyperparameter = [{'n_estimators'  : [50,100,500,1000,2000],'max_depth':[5,10]}]\n",
    "\n",
    "clf_XG = GridSearchCV(XGBClassifier(), grid_hyperparameter,scoring = 'accuracy',cv=3)\n",
    "clf_XG.fit(X_train,y_train)\n",
    "\n",
    "xg_n_estimators = grid_hyperparameter[0]['n_estimators']\n",
    "xg_max_depth = grid_hyperparameter[0]['max_depth']\n",
    "df = pd.DataFrame(clf_XG.grid_scores_)\n",
    "scores = np.array(df['mean_validation_score']).reshape(2,5)\n",
    "fig, ax = plt.subplots()\n",
    "plt.imshow(scores, interpolation='nearest')\n",
    "plt.colorbar()\n",
    "for i in range(len(max_depth)):\n",
    "    for j in range(len(n_estimators)):\n",
    "        text = ax.text(j, i, np.round(scores[i, j],3),\n",
    "                       ha=\"center\", va=\"center\", color=\"w\")\n",
    "ax.set_xticks(np.arange(len(n_estimators)))\n",
    "ax.set_yticks(np.arange(len(max_depth)))\n",
    "ax.set_xticklabels(n_estimators)\n",
    "ax.set_yticklabels(max_depth)\n",
    "plt.xlabel('n_estimators')\n",
    "plt.ylabel('max_depth')\n",
    "ax.set_title(\"Grid Search f1 Score\")\n",
    "fig.tight_layout()\n",
    "plt.show()\n",
    "\n",
    "xg_n_estimator = clf_XG.best_estimator_.get_params()['n_estimators']\n",
    "xg_max_depths = clf_XG.best_estimator_.get_params()['max_depth']\n",
    "xg_train_score = clf_XG.score(X_train,y_train)\n",
    "xg_test_score = clf_XG.score(X_test, y_test)\n",
    "print('the best max_depth is',xg_max_depths)\n",
    "print('the best max_depth is',xg_n_estimator)\n",
    "print('Accuracy of train data',xg_train_score)\n",
    "print('Accuracy of test data',xg_test_score)\n",
    "\n",
    "\n",
    "clf = XGBClassifier(class_weight = 'balanced',n_estimators=xg_n_estimator, criterion='gini', max_depth=xg_max_depths, random_state=42, n_jobs=-1)\n",
    "clf.fit(X_train,y_train)\n",
    "\n",
    "pred = clf.predict(X_test)\n",
    "skplt.metrics.plot_confusion_matrix(y_test, pred, normalize=False)\n",
    "plt.show()"
   ]
  },
  {
   "cell_type": "markdown",
   "metadata": {},
   "source": [
    "# MLP"
   ]
  },
  {
   "cell_type": "code",
   "execution_count": 235,
   "metadata": {},
   "outputs": [],
   "source": [
    "def plt_dynamic(x, vy, ty, ax, colors=['b']):\n",
    "    ax.plot(x, vy, 'b', label=\"Validation Loss\")\n",
    "    ax.plot(x, ty, 'r', label=\"Train Loss\")\n",
    "    plt.legend()\n",
    "    plt.grid()\n",
    "    fig.canvas.draw()"
   ]
  },
  {
   "cell_type": "code",
   "execution_count": 264,
   "metadata": {},
   "outputs": [],
   "source": [
    "output_dim = 1\n",
    "input_dim = X_train.shape[1]\n",
    "batch_size = 32 \n",
    "nb_epoch = 5"
   ]
  },
  {
   "cell_type": "code",
   "execution_count": 265,
   "metadata": {},
   "outputs": [
    {
     "name": "stdout",
     "output_type": "stream",
     "text": [
      "_________________________________________________________________\n",
      "Layer (type)                 Output Shape              Param #   \n",
      "=================================================================\n",
      "dense_10 (Dense)             (None, 10)                100       \n",
      "_________________________________________________________________\n",
      "batch_normalization_7 (Batch (None, 10)                40        \n",
      "_________________________________________________________________\n",
      "dropout_7 (Dropout)          (None, 10)                0         \n",
      "_________________________________________________________________\n",
      "dense_11 (Dense)             (None, 10)                110       \n",
      "_________________________________________________________________\n",
      "batch_normalization_8 (Batch (None, 10)                40        \n",
      "_________________________________________________________________\n",
      "dropout_8 (Dropout)          (None, 10)                0         \n",
      "_________________________________________________________________\n",
      "dense_12 (Dense)             (None, 1)                 11        \n",
      "=================================================================\n",
      "Total params: 301\n",
      "Trainable params: 261\n",
      "Non-trainable params: 40\n",
      "_________________________________________________________________\n"
     ]
    }
   ],
   "source": [
    "model_drop = Sequential()\n",
    "\n",
    "model_drop.add(Dense(10,activation='relu', input_shape=(input_dim,), kernel_initializer=RandomNormal(mean=0.0, stddev=0.062, seed=None)))\n",
    "model_drop.add(BatchNormalization())\n",
    "model_drop.add(Dropout(0.5))\n",
    "\n",
    "model_drop.add(Dense(10 ,activation='relu', kernel_initializer=RandomNormal(mean=0.0, stddev=0.125, seed=None)) )\n",
    "model_drop.add(BatchNormalization())\n",
    "model_drop.add(Dropout(0.5))\n",
    "\n",
    "model_drop.add(Dense(output_dim, activation='sigmoid'))\n",
    "\n",
    "\n",
    "model_drop.summary()"
   ]
  },
  {
   "cell_type": "code",
   "execution_count": 266,
   "metadata": {
    "scrolled": true
   },
   "outputs": [
    {
     "name": "stdout",
     "output_type": "stream",
     "text": [
      "Train on 623 samples, validate on 268 samples\n",
      "Epoch 1/5\n",
      "623/623 [==============================] - 1s 2ms/step - loss: 1.0106 - acc: 0.4928 - val_loss: 0.6834 - val_acc: 0.6045\n",
      "Epoch 2/5\n",
      "623/623 [==============================] - 0s 73us/step - loss: 0.9237 - acc: 0.5152 - val_loss: 0.6449 - val_acc: 0.7276\n",
      "Epoch 3/5\n",
      "623/623 [==============================] - 0s 70us/step - loss: 0.7800 - acc: 0.5811 - val_loss: 0.6303 - val_acc: 0.7052\n",
      "Epoch 4/5\n",
      "623/623 [==============================] - 0s 67us/step - loss: 0.7819 - acc: 0.5570 - val_loss: 0.6200 - val_acc: 0.6940\n",
      "Epoch 5/5\n",
      "623/623 [==============================] - 0s 70us/step - loss: 0.8060 - acc: 0.6003 - val_loss: 0.6176 - val_acc: 0.7127\n",
      "Test score: 0.6175802928298267\n",
      "Test accuracy: 0.7126865662745575\n"
     ]
    }
   ],
   "source": [
    "model_drop.compile(optimizer='adam', loss='binary_crossentropy', metrics=['accuracy'])\n",
    "history = model_drop.fit(X_train, y_train, batch_size=batch_size, epochs=nb_epoch, verbose=1, validation_data=(X_test, y_test))\n",
    "\n",
    "score = model_drop.evaluate(X_test, y_test, verbose=0) \n",
    "print('Test score:', score[0]) \n",
    "print('Test accuracy:', score[1])"
   ]
  },
  {
   "cell_type": "code",
   "execution_count": 268,
   "metadata": {},
   "outputs": [
    {
     "data": {
      "image/png": "[encoded data removed]",
      "text/plain": [
       "<Figure size 432x288 with 1 Axes>"
      ]
     },
     "metadata": {},
     "output_type": "display_data"
    }
   ],
   "source": [
    "fig,ax = plt.subplots(1,1)\n",
    "ax.set_xlabel('epoch') \n",
    "ax.set_ylabel('Binary Crossentropy Loss')\n",
    "\n",
    "# list of epoch numbers\n",
    "x = list(range(1,nb_epoch+1))\n",
    "\n",
    "vy = history.history['val_loss']\n",
    "ty = history.history['loss']\n",
    "plt_dynamic(x, vy, ty, ax)\n",
    "plt.show()"
   ]
  },
  {
   "cell_type": "markdown",
   "metadata": {},
   "source": [
    "# Summary"
   ]
  },
  {
   "cell_type": "code",
   "execution_count": 267,
   "metadata": {},
   "outputs": [
    {
     "name": "stdout",
     "output_type": "stream",
     "text": [
      "+---------------------+-----------------+--------------------+--------------------+\n",
      "|        Model        | Hyper_parameter |    Train score     |     Test score     |\n",
      "+---------------------+-----------------+--------------------+--------------------+\n",
      "|         KNN         |        17       | 0.7399678972712681 | 0.7052238805970149 |\n",
      "|     Naive bayes     |       100       | 0.680577849117175  | 0.7052238805970149 |\n",
      "| Logistic Regression |        10       | 0.7961476725521669 | 0.8059701492537313 |\n",
      "|         SVM         |       0.01      | 0.7752808988764045 | 0.8022388059701493 |\n",
      "|    Decision Tree    |        5        |  0.85553772070626  | 0.7947761194029851 |\n",
      "|    Random Forest    |     [100, 5]    | 0.869983948635634  | 0.8134328358208955 |\n",
      "|         XGB         |     [50, 5]     | 0.8972712680577849 | 0.7910447761194029 |\n",
      "|         MLP         |                 | 0.6175802928298267 | 0.7126865662745575 |\n",
      "+---------------------+-----------------+--------------------+--------------------+\n"
     ]
    }
   ],
   "source": [
    "from prettytable import PrettyTable\n",
    "    \n",
    "Table = PrettyTable()\n",
    "\n",
    "Table.field_names  = [\"Model\", \"Hyper_parameter\", \"Train score\", \"Test score\"]\n",
    "\n",
    "Table.add_row([\"KNN\", k, knn_train_score,knn_test_score])\n",
    "Table.add_row([\"Naive bayes\", alpha,NB_train_score, NB_test_score])\n",
    "Table.add_row([\"Logistic Regression\", C,LR_train_score, LR_test_score])\n",
    "Table.add_row([\"SVM\", SVM_alpha,SVM_train_score, SVM_test_score])\n",
    "Table.add_row([\"Decision Tree\", DT_depth,DT_train_score, DT_test_score])\n",
    "Table.add_row([\"Random Forest\", [clf_n,clf_depth],clf_train_score, clf_test_score])\n",
    "Table.add_row([\"XGB\", [xg_n_estimator,xg_max_depths],xg_train_score, xg_test_score])\n",
    "Table.add_row([\"MLP\",\"\",score[0], score[1]])\n",
    "\n",
    "print(Table)"
   ]
  }
 ],
 "metadata": {
  "kernelspec": {
   "display_name": "Python 3",
   "language": "python",
   "name": "python3"
  },
  "language_info": {
   "codemirror_mode": {
    "name": "ipython",
    "version": 3
   },
   "file_extension": ".py",
   "mimetype": "text/x-python",
   "name": "python",
   "nbconvert_exporter": "python",
   "pygments_lexer": "ipython3",
   "version": "3.6.5"
  }
 },
 "nbformat": 4,
 "nbformat_minor": 2
}
